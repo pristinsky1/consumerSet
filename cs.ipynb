{
 "cells": [
  {
   "cell_type": "code",
   "execution_count": 1,
   "metadata": {},
   "outputs": [],
   "source": [
    "import pandas as pd \n",
    "import seaborn as sns\n",
    "import sklearn "
   ]
  },
  {
   "cell_type": "code",
   "execution_count": 2,
   "metadata": {},
   "outputs": [],
   "source": [
    "chunksize = 10 ** 6\n",
    "chunks = []\n",
    "for chunk in pd.read_csv(\"Consumer_Complaints.csv\", chunksize=chunksize):\n",
    "    chunks.append(chunk)"
   ]
  },
  {
   "cell_type": "code",
   "execution_count": 3,
   "metadata": {},
   "outputs": [
    {
     "data": {
      "text/plain": [
       "array(['Credit reporting',\n",
       "       'Credit reporting, credit repair services, or other personal consumer reports',\n",
       "       'Mortgage', 'Credit card', 'Debt collection',\n",
       "       'Bank account or service', 'Credit card or prepaid card',\n",
       "       'Consumer Loan', 'Student loan', 'Vehicle loan or lease',\n",
       "       'Money transfer, virtual currency, or money service',\n",
       "       'Checking or savings account', 'Money transfers',\n",
       "       'Payday loan, title loan, or personal loan', 'Prepaid card',\n",
       "       'Other financial service', 'Payday loan', 'Virtual currency'],\n",
       "      dtype=object)"
      ]
     },
     "execution_count": 3,
     "metadata": {},
     "output_type": "execute_result"
    }
   ],
   "source": [
    "chunks[0].Product.unique()"
   ]
  },
  {
   "cell_type": "code",
   "execution_count": 4,
   "metadata": {},
   "outputs": [
    {
     "data": {
      "text/plain": [
       "Yes    975027\n",
       "No      24973\n",
       "Name: Timely response?, dtype: int64"
      ]
     },
     "execution_count": 4,
     "metadata": {},
     "output_type": "execute_result"
    }
   ],
   "source": [
    "chunks[0][\"Timely response?\"].value_counts()"
   ]
  },
  {
   "cell_type": "code",
   "execution_count": 18,
   "metadata": {},
   "outputs": [
    {
     "data": {
      "text/plain": [
       "0               Incorrect information on credit report\n",
       "1    Problem with a credit reporting company's inve...\n",
       "2             Loan servicing, payments, escrow account\n",
       "3                                     Billing disputes\n",
       "4             Loan modification,collection,foreclosure\n",
       "Name: Issue, dtype: object"
      ]
     },
     "execution_count": 18,
     "metadata": {},
     "output_type": "execute_result"
    }
   ],
   "source": [
    "chunks[0]['Issue'].head()"
   ]
  },
  {
   "cell_type": "code",
   "execution_count": 27,
   "metadata": {},
   "outputs": [
    {
     "data": {
      "text/plain": [
       "2054      ISIS SECURITY INFORMATION SYSTEMS INC.\n",
       "42436               STEWART INFORMATION SERVICES\n",
       "82182               STEWART INFORMATION SERVICES\n",
       "84388               STEWART INFORMATION SERVICES\n",
       "139927    ISIS SECURITY INFORMATION SYSTEMS INC.\n",
       "221421    ISIS SECURITY INFORMATION SYSTEMS INC.\n",
       "228812              STEWART INFORMATION SERVICES\n",
       "247625    ISIS SECURITY INFORMATION SYSTEMS INC.\n",
       "301562    ISIS SECURITY INFORMATION SYSTEMS INC.\n",
       "335251    ISIS SECURITY INFORMATION SYSTEMS INC.\n",
       "419119    ISIS SECURITY INFORMATION SYSTEMS INC.\n",
       "420260              STEWART INFORMATION SERVICES\n",
       "469765              STEWART INFORMATION SERVICES\n",
       "474525    ISIS SECURITY INFORMATION SYSTEMS INC.\n",
       "492269              STEWART INFORMATION SERVICES\n",
       "543714              STEWART INFORMATION SERVICES\n",
       "578476              STEWART INFORMATION SERVICES\n",
       "635149    ISIS SECURITY INFORMATION SYSTEMS INC.\n",
       "656020              STEWART INFORMATION SERVICES\n",
       "692489              STEWART INFORMATION SERVICES\n",
       "735269    ISIS SECURITY INFORMATION SYSTEMS INC.\n",
       "757124    ISIS SECURITY INFORMATION SYSTEMS INC.\n",
       "831807              STEWART INFORMATION SERVICES\n",
       "862548              STEWART INFORMATION SERVICES\n",
       "876163              STEWART INFORMATION SERVICES\n",
       "918168    ISIS SECURITY INFORMATION SYSTEMS INC.\n",
       "988481              STEWART INFORMATION SERVICES\n",
       "Name: Company, dtype: object"
      ]
     },
     "execution_count": 27,
     "metadata": {},
     "output_type": "execute_result"
    }
   ],
   "source": [
    "chunks[0].loc[chunks[0]['Company'].str.contains('INFORMATION'), 'Company']"
   ]
  },
  {
   "cell_type": "code",
   "execution_count": 20,
   "metadata": {},
   "outputs": [
    {
     "data": {
      "text/plain": [
       "Mortgage                                                                        198152\n",
       "Debt collection                                                                 194060\n",
       "Credit reporting, credit repair services, or other personal consumer reports    187009\n",
       "Credit reporting                                                                111184\n",
       "Credit card                                                                      70434\n",
       "Bank account or service                                                          66372\n",
       "Student loan                                                                     40737\n",
       "Credit card or prepaid card                                                      38601\n",
       "Checking or savings account                                                      32171\n",
       "Consumer Loan                                                                    24572\n",
       "Vehicle loan or lease                                                             8993\n",
       "Money transfer, virtual currency, or money service                                8275\n",
       "Payday loan, title loan, or personal loan                                         6982\n",
       "Payday loan                                                                       4342\n",
       "Money transfers                                                                   4258\n",
       "Prepaid card                                                                      3007\n",
       "Other financial service                                                            838\n",
       "Virtual currency                                                                    13\n",
       "Name: Product, dtype: int64"
      ]
     },
     "execution_count": 20,
     "metadata": {},
     "output_type": "execute_result"
    }
   ],
   "source": [
    "chunks[0]['Product'].value_counts()"
   ]
  },
  {
   "cell_type": "markdown",
   "metadata": {},
   "source": [
    "1.) Find the companies with the most amount of consumer complaints\n",
    "2.) In each product category, look at the company that is responsible for the most amount of issues.\n",
    "3.) The missingness of zipcod vs state? Maybe find missingness of something else as well."
   ]
  },
  {
   "cell_type": "code",
   "execution_count": 13,
   "metadata": {},
   "outputs": [
    {
     "data": {
      "text/plain": [
       "{'Date received': 1.0,\n",
       " 'Product': 1.0,\n",
       " 'Sub-product': 0.81404,\n",
       " 'Issue': 1.0,\n",
       " 'Sub-issue': 0.603499,\n",
       " 'Consumer complaint narrative': 0.31758,\n",
       " 'Company public response': 0.364947,\n",
       " 'Company': 1.0,\n",
       " 'State': 0.984518,\n",
       " 'ZIP code': 0.911206,\n",
       " 'Tags': 0.13596,\n",
       " 'Consumer consent provided?': 0.566979,\n",
       " 'Submitted via': 1.0,\n",
       " 'Date sent to company': 1.0,\n",
       " 'Company response to consumer': 0.999999,\n",
       " 'Timely response?': 1.0,\n",
       " 'Consumer disputed?': 0.585413,\n",
       " 'Complaint ID': 1.0}"
      ]
     },
     "execution_count": 13,
     "metadata": {},
     "output_type": "execute_result"
    }
   ],
   "source": [
    "props = {}\n",
    "#Iterate through columns of chunk 0\n",
    "for col in chunks[0].columns:\n",
    "    #Find the total length of the column\n",
    "    tot = len(chunks[0][col])\n",
    "    #Find the number of non-null values\n",
    "    non_null = len(chunks[0][col].dropna())\n",
    "    #Calculate the proportion of non-nulls & put it in a dic for later use\n",
    "    props[col] = (non_null / tot)\n",
    "props\n",
    "#This is the proportion of non-null values for each column in chunk 0"
   ]
  },
  {
   "cell_type": "code",
   "execution_count": 17,
   "metadata": {},
   "outputs": [
    {
     "data": {
      "text/plain": [
       "{'Date received': 1.0,\n",
       " 'Product': 1.0,\n",
       " 'Sub-product': 0.8925411010360431,\n",
       " 'Issue': 1.0,\n",
       " 'Sub-issue': 0.6579922078375876,\n",
       " 'Consumer complaint narrative': 0.3413613571640722,\n",
       " 'Company public response': 0.3838164124604714,\n",
       " 'Company': 1.0,\n",
       " 'State': 0.9810961441025909,\n",
       " 'ZIP code': 0.8981886716634345,\n",
       " 'Tags': 0.13719054108356482,\n",
       " 'Consumer consent provided?': 0.6169959990914967,\n",
       " 'Submitted via': 1.0,\n",
       " 'Date sent to company': 1.0,\n",
       " 'Company response to consumer': 1.0,\n",
       " 'Timely response?': 1.0,\n",
       " 'Consumer disputed?': 0.3998047591592851,\n",
       " 'Complaint ID': 1.0}"
      ]
     },
     "execution_count": 17,
     "metadata": {},
     "output_type": "execute_result"
    }
   ],
   "source": [
    "props = {}\n",
    "#Iterate through columns of chunk 1\n",
    "for col in chunks[1].columns:\n",
    "    #Find the total length of the column\n",
    "    tot = len(chunks[1][col])\n",
    "    #Find the number of non-null values\n",
    "    non_null = len(chunks[1][col].dropna())\n",
    "    #Calculate the proportion of non-nulls & put it in a dic for later use\n",
    "    props[col] = (non_null / tot)\n",
    "props\n",
    "#This is the proportion of non-null values for each column in chunk 1"
   ]
  },
  {
   "cell_type": "code",
   "execution_count": 16,
   "metadata": {},
   "outputs": [
    {
     "data": {
      "text/html": [
       "<div>\n",
       "<style scoped>\n",
       "    .dataframe tbody tr th:only-of-type {\n",
       "        vertical-align: middle;\n",
       "    }\n",
       "\n",
       "    .dataframe tbody tr th {\n",
       "        vertical-align: top;\n",
       "    }\n",
       "\n",
       "    .dataframe thead th {\n",
       "        text-align: right;\n",
       "    }\n",
       "</style>\n",
       "<table border=\"1\" class=\"dataframe\">\n",
       "  <thead>\n",
       "    <tr style=\"text-align: right;\">\n",
       "      <th></th>\n",
       "      <th>Date received</th>\n",
       "      <th>Product</th>\n",
       "      <th>Sub-product</th>\n",
       "      <th>Issue</th>\n",
       "      <th>Sub-issue</th>\n",
       "      <th>Consumer complaint narrative</th>\n",
       "      <th>Company public response</th>\n",
       "      <th>Company</th>\n",
       "      <th>State</th>\n",
       "      <th>ZIP code</th>\n",
       "      <th>Tags</th>\n",
       "      <th>Consumer consent provided?</th>\n",
       "      <th>Submitted via</th>\n",
       "      <th>Date sent to company</th>\n",
       "      <th>Company response to consumer</th>\n",
       "      <th>Timely response?</th>\n",
       "      <th>Consumer disputed?</th>\n",
       "      <th>Complaint ID</th>\n",
       "    </tr>\n",
       "  </thead>\n",
       "  <tbody>\n",
       "    <tr>\n",
       "      <th>799862</th>\n",
       "      <td>01/03/2018</td>\n",
       "      <td>Credit reporting, credit repair services, or o...</td>\n",
       "      <td>Credit reporting</td>\n",
       "      <td>Incorrect information on your report</td>\n",
       "      <td>Old information reappears or never goes away</td>\n",
       "      <td>I called the phone number as listed on the cre...</td>\n",
       "      <td>NaN</td>\n",
       "      <td>EQUIFAX, INC.</td>\n",
       "      <td>CA</td>\n",
       "      <td>945XX</td>\n",
       "      <td>NaN</td>\n",
       "      <td>Consent provided</td>\n",
       "      <td>Web</td>\n",
       "      <td>01/03/2018</td>\n",
       "      <td>NaN</td>\n",
       "      <td>Yes</td>\n",
       "      <td>NaN</td>\n",
       "      <td>2770980</td>\n",
       "    </tr>\n",
       "  </tbody>\n",
       "</table>\n",
       "</div>"
      ],
      "text/plain": [
       "       Date received                                            Product  \\\n",
       "799862    01/03/2018  Credit reporting, credit repair services, or o...   \n",
       "\n",
       "             Sub-product                                 Issue  \\\n",
       "799862  Credit reporting  Incorrect information on your report   \n",
       "\n",
       "                                           Sub-issue  \\\n",
       "799862  Old information reappears or never goes away   \n",
       "\n",
       "                             Consumer complaint narrative  \\\n",
       "799862  I called the phone number as listed on the cre...   \n",
       "\n",
       "       Company public response        Company State ZIP code Tags  \\\n",
       "799862                     NaN  EQUIFAX, INC.    CA    945XX  NaN   \n",
       "\n",
       "       Consumer consent provided? Submitted via Date sent to company  \\\n",
       "799862           Consent provided           Web           01/03/2018   \n",
       "\n",
       "       Company response to consumer Timely response? Consumer disputed?  \\\n",
       "799862                          NaN              Yes                NaN   \n",
       "\n",
       "        Complaint ID  \n",
       "799862       2770980  "
      ]
     },
     "execution_count": 16,
     "metadata": {},
     "output_type": "execute_result"
    }
   ],
   "source": [
    "chunks[0].loc[chunks[0]['Company response to consumer'].isnull()]"
   ]
  },
  {
   "cell_type": "code",
   "execution_count": null,
   "metadata": {},
   "outputs": [],
   "source": []
  }
 ],
 "metadata": {
  "file_extension": ".py",
  "kernelspec": {
   "display_name": "Python 3",
   "language": "python",
   "name": "python3"
  },
  "language_info": {
   "codemirror_mode": {
    "name": "ipython",
    "version": 3
   },
   "file_extension": ".py",
   "mimetype": "text/x-python",
   "name": "python",
   "nbconvert_exporter": "python",
   "pygments_lexer": "ipython3",
   "version": "3.7.3"
  },
  "mimetype": "text/x-python",
  "name": "python",
  "npconvert_exporter": "python",
  "pygments_lexer": "ipython3",
  "version": 3
 },
 "nbformat": 4,
 "nbformat_minor": 2
}
